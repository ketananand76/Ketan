{
  "nbformat": 4,
  "nbformat_minor": 0,
  "metadata": {
    "colab": {
      "provenance": [],
      "authorship_tag": "ABX9TyOpQYHZHIeXb+ZhGH8hRvLj",
      "include_colab_link": true
    },
    "kernelspec": {
      "name": "python3",
      "display_name": "Python 3"
    },
    "language_info": {
      "name": "python"
    }
  },
  "cells": [
    {
      "cell_type": "markdown",
      "metadata": {
        "id": "view-in-github",
        "colab_type": "text"
      },
      "source": [
        "<a href=\"https://colab.research.google.com/github/ketananand76/Ketan/blob/main/ihublab.ipynb\" target=\"_parent\"><img src=\"https://colab.research.google.com/assets/colab-badge.svg\" alt=\"Open In Colab\"/></a>"
      ]
    },
    {
      "cell_type": "code",
      "execution_count": 1,
      "metadata": {
        "colab": {
          "base_uri": "https://localhost:8080/"
        },
        "id": "UHxvuidElROs",
        "outputId": "b61547a3-ad4c-4c4d-d77b-d0930eb218f9"
      },
      "outputs": [
        {
          "output_type": "stream",
          "name": "stdout",
          "text": [
            "Enter your budget: 7000\n",
            "\n",
            "Recommended places for your budget:\n",
            "- goa\n",
            "- katmandu\n",
            "- \n"
          ]
        }
      ],
      "source": [
        "#write a python program for recomandation\n",
        "#according to budget suggest diff diff turist place\n",
        "def recommend_places(budget):\n",
        "    \"\"\"\n",
        "    Recommends tourist places based on the provided budget.\n",
        "\n",
        "    Args:\n",
        "        budget (float): The user's budget.\n",
        "\n",
        "    Returns:\n",
        "        list: A list of recommended places.\n",
        "    \"\"\"\n",
        "\n",
        "    recommendations = []\n",
        "\n",
        "    if 0 <=budget < 3000:\n",
        "        recommendations.extend([\n",
        "            \"varanasi\",\"mumbai\",\"guwahati\"\n",
        "        ])\n",
        "\n",
        "\n",
        "    else 4000<=budget < 5000:\n",
        "        recommendations.extend([\n",
        "            \"varanasi\",\"mumbai\",\"guwahati\"\n",
        "        ])\n",
        "    elif 5000 <= budget < 20000:\n",
        "        recommendations.extend([\n",
        "            \"goa\",\"katmandu\",\"nepal\"\n",
        "        ])\n",
        "    elif 20000 <= budget < 50000:\n",
        "        recommendations.extend([\n",
        "            \"manali\",\n",
        "            \"siligori\"\n",
        "\n",
        "        ])\n",
        "    elif 50000 <= budget < 100000:\n",
        "        recommendations.extend([\n",
        "            \"International travel to nearby countries\",\n",
        "            \"Comfortable hotels and resorts\",\n",
        "            \"Package tours and cruises\",\n",
        "            \"Exploring multiple cities or regions in a country\",\n",
        "            \"Specialized tours (e.g., wildlife safaris, cultural immersion)\",\n",
        "            \"Longer vacations with a mix of relaxation and activities\"\n",
        "        ])\n",
        "    else:\n",
        "        recommendations.extend([\n",
        "            \"Luxury international travel\",\n",
        "            \"High-end resorts and villas\",\n",
        "            \"Customized travel itineraries\",\n",
        "            \"Exclusive tours and experiences\",\n",
        "            \"Private island getaways\",\n",
        "            \"Long-duration travel to multiple continents\",\n",
        "            \"Luxury cruises and expeditions\"\n",
        "        ])\n",
        "\n",
        "    return recommendations\n",
        "\n",
        "def main():\n",
        "    try:\n",
        "        budget = float(input(\"Enter your budget: \"))\n",
        "        if budget < 0 :\n",
        "            print(\"budget cannot be negative\")\n",
        "            return\n",
        "        recommendations = recommend_places(budget)\n",
        "\n",
        "        if recommendations:\n",
        "            print(\"\\nRecommended places for your budget:\")\n",
        "            for place in recommendations:\n",
        "                print(\"- \" + place)\n",
        "        else:\n",
        "            print(\"No recommendations found for that budget.\")\n",
        "    except ValueError:\n",
        "        print(\"Invalid input. Please enter a numerical value for your budget.\")\n",
        "\n",
        "if __name__ == \"__main__\":\n",
        "    main()"
      ]
    },
    {
      "cell_type": "code",
      "source": [
        "def recommend_restaurants(budget):\n",
        "    \"\"\"\n",
        "    Recommends restaurants based on the provided budget.\n",
        "\n",
        "    Args:\n",
        "        budget (float): The user's budget.\n",
        "\n",
        "    Returns:\n",
        "        list: A list of recommended restaurants.\n",
        "    \"\"\"\n",
        "\n",
        "    recommendations = []\n",
        "\n",
        "    if 0 <= budget < 300:\n",
        "        recommendations.extend([\n",
        "            \"McDonald's\",\n",
        "            \"Subway\",\n",
        "            \"Domino's Pizza\"\n",
        "        ])\n",
        "    elif 300 <= budget < 700:\n",
        "        recommendations.extend([\n",
        "            \"KFC\",\n",
        "            \"Pizza Hut\",\n",
        "            \"Burger King\"\n",
        "        ])\n",
        "    elif 700 <= budget < 1500:\n",
        "        recommendations.extend([\n",
        "            \"Barbeque Nation\",\n",
        "            \" Mainland China\",\n",
        "            \"The Big Chill Cafe\"\n",
        "        ])\n",
        "    elif 1500 <= budget < 3000:\n",
        "        recommendations.extend([\n",
        "            \"The Leela Palace\",\n",
        "            \"The Oberoi\",\n",
        "            \"The Taj Mahal Hotel\"\n",
        "        ])\n",
        "    else:\n",
        "        recommendations.extend([\n",
        "            \"Fine dining restaurants with Michelin stars\",\n",
        "            \"Exclusive restaurants with set menus\",\n",
        "            \"Restaurants with a focus on molecular gastronomy\"\n",
        "        ])\n",
        "\n",
        "    return recommendations\n",
        "\n",
        "def main():\n",
        "    try:\n",
        "        budget = float(input(\"Enter your budget: \"))\n",
        "        if budget < 0 :\n",
        "            print(\"budget cannot be negative\")\n",
        "            return\n",
        "        recommendations = recommend_restaurants(budget)\n",
        "\n",
        "        if recommendations:\n",
        "            print(\"\\nRecommended restaurants for your budget:\")\n",
        "            for place in recommendations:\n",
        "                print(\"- \" + place)\n",
        "        else:\n",
        "            print(\"No recommendations found for that budget.\")\n",
        "    except ValueError:\n",
        "        print(\"Invalid input. Please enter a numerical value for your budget.\")\n",
        "\n",
        "if __name__ == \"__main__\":\n",
        "    main()"
      ],
      "metadata": {
        "id": "3apaym2emNX6"
      },
      "execution_count": null,
      "outputs": []
    },
    {
      "cell_type": "code",
      "source": [
        "#write a python program for two greater number if 1st number is greater than 1000000 1st number is greatest\n",
        "def find_greater_number(num1, num2):\n",
        "    \"\"\"\n",
        "    Finds the greater of two numbers with a special condition.\n",
        "\n",
        "    Args:\n",
        "        num1 (int): The first number.\n",
        "        num2 (int): The second number.\n",
        "\n",
        "    Returns:\n",
        "        int: The greater number.\n",
        "    \"\"\"\n",
        "\n",
        "    if num1 > 1000000:\n",
        "        return num1  # If num1 is greater than 1,000,000, it's considered the greatest\n",
        "    else:\n",
        "        return max(num1, num2)  # Otherwise, use max() to find the greater number\n",
        "\n",
        "def main():\n",
        "    try:\n",
        "        num1 = int(input(\"Enter the first number: \"))\n",
        "        num2 = int(input(\"Enter the second number: \"))\n",
        "\n",
        "        greater_number = find_greater_number(num1, num2)\n",
        "\n",
        "        print(\"The greater number is:\", greater_number)\n",
        "\n",
        "    except ValueError:\n",
        "        print(\"Invalid input. Please enter numerical values.\")\n",
        "\n",
        "if __name__ == \"__main__\":\n",
        "    main()"
      ],
      "metadata": {
        "colab": {
          "base_uri": "https://localhost:8080/"
        },
        "id": "FCDYPYkPm5vU",
        "outputId": "21e31dc2-bdcf-495d-9b6f-dc9a3ac1c7d5"
      },
      "execution_count": 2,
      "outputs": [
        {
          "output_type": "stream",
          "name": "stdout",
          "text": [
            "Enter the first number: 3000000\n",
            "Enter the second number: 1000000\n",
            "The greater number is: 3000000\n"
          ]
        }
      ]
    },
    {
      "cell_type": "code",
      "source": [
        "from sense_hat import SenseHat\n",
        "import time\n",
        "\n",
        "# Initialize the Sense HAT\n",
        "sense = SenseHat()\n",
        "\n",
        "# Function to measure temperature\n",
        "def get_temperature():\n",
        "    temp = sense.get_temperature()\n",
        "    return temp\n",
        "\n",
        "# Function to estimate fresh air quantity (simplified approach)\n",
        "def estimate_fresh_air(temp):\n",
        "    # Assuming a baseline temperature and fresh air flow rate\n",
        "    baseline_temp = 25  # Adjust based on your environment\n",
        "    baseline_flow_rate = 10  # Example flow rate in cubic meters per hour\n",
        "\n",
        "    # Simple estimation based on temperature difference\n",
        "    fresh_air_quantity = baseline_flow_rate + (temp - baseline_temp) * 0.5\n",
        "\n",
        "    return fresh_air_quantity\n",
        "\n",
        "# Main loop to continuously monitor and display readings\n",
        "while True:\n",
        "    temperature = get_temperature()\n",
        "    fresh_air = estimate_fresh_air(temperature)\n",
        "\n",
        "    print(f\"Temperature: {temperature:.2f}°C\")\n",
        "    print(f\"Estimated Fresh Air Quantity: {fresh_air:.2f} m³/h\")\n",
        "\n",
        "    time.sleep(5)  # Update readings every 5 seconds"
      ],
      "metadata": {
        "colab": {
          "base_uri": "https://localhost:8080/",
          "height": 383
        },
        "id": "HOYzws9noLxO",
        "outputId": "ac337df3-d192-4d36-a2ec-6f40c9a20fc9"
      },
      "execution_count": 4,
      "outputs": [
        {
          "output_type": "error",
          "ename": "ModuleNotFoundError",
          "evalue": "No module named 'sense_hat'",
          "traceback": [
            "\u001b[0;31m---------------------------------------------------------------------------\u001b[0m",
            "\u001b[0;31mModuleNotFoundError\u001b[0m                       Traceback (most recent call last)",
            "\u001b[0;32m<ipython-input-4-4287cfea7ff5>\u001b[0m in \u001b[0;36m<cell line: 0>\u001b[0;34m()\u001b[0m\n\u001b[0;32m----> 1\u001b[0;31m \u001b[0;32mfrom\u001b[0m \u001b[0msense_hat\u001b[0m \u001b[0;32mimport\u001b[0m \u001b[0mSenseHat\u001b[0m\u001b[0;34m\u001b[0m\u001b[0;34m\u001b[0m\u001b[0m\n\u001b[0m\u001b[1;32m      2\u001b[0m \u001b[0;32mimport\u001b[0m \u001b[0mtime\u001b[0m\u001b[0;34m\u001b[0m\u001b[0;34m\u001b[0m\u001b[0m\n\u001b[1;32m      3\u001b[0m \u001b[0;34m\u001b[0m\u001b[0m\n\u001b[1;32m      4\u001b[0m \u001b[0;31m# Initialize the Sense HAT\u001b[0m\u001b[0;34m\u001b[0m\u001b[0;34m\u001b[0m\u001b[0m\n\u001b[1;32m      5\u001b[0m \u001b[0msense\u001b[0m \u001b[0;34m=\u001b[0m \u001b[0mSenseHat\u001b[0m\u001b[0;34m(\u001b[0m\u001b[0;34m)\u001b[0m\u001b[0;34m\u001b[0m\u001b[0;34m\u001b[0m\u001b[0m\n",
            "\u001b[0;31mModuleNotFoundError\u001b[0m: No module named 'sense_hat'",
            "",
            "\u001b[0;31m---------------------------------------------------------------------------\u001b[0;32m\nNOTE: If your import is failing due to a missing package, you can\nmanually install dependencies using either !pip or !apt.\n\nTo view examples of installing some common dependencies, click the\n\"Open Examples\" button below.\n\u001b[0;31m---------------------------------------------------------------------------\u001b[0m\n"
          ],
          "errorDetails": {
            "actions": [
              {
                "action": "open_url",
                "actionText": "Open Examples",
                "url": "/notebooks/snippets/importing_libraries.ipynb"
              }
            ]
          }
        }
      ]
    }
  ]
}